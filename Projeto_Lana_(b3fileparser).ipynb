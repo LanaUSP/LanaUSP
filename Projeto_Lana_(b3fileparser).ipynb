{
  "nbformat": 4,
  "nbformat_minor": 0,
  "metadata": {
    "colab": {
      "provenance": [],
      "include_colab_link": true
    },
    "kernelspec": {
      "name": "python3",
      "display_name": "Python 3"
    },
    "language_info": {
      "name": "python"
    }
  },
  "cells": [
    {
      "cell_type": "markdown",
      "metadata": {
        "id": "view-in-github",
        "colab_type": "text"
      },
      "source": [
        "<a href=\"https://colab.research.google.com/github/LanaUSP/LanaUSP/blob/main/Projeto_Lana_(b3fileparser).ipynb\" target=\"_parent\"><img src=\"https://colab.research.google.com/assets/colab-badge.svg\" alt=\"Open In Colab\"/></a>"
      ]
    },
    {
      "cell_type": "markdown",
      "source": [
        "# Escopo / Resumo"
      ],
      "metadata": {
        "id": "w1i61CnlRqgv"
      }
    },
    {
      "cell_type": "markdown",
      "source": [
        "Projeto de otimização de carteiras de investimentos\n",
        "\n",
        "Biblioteca utilizada: [b3fileparser](https://github.com/codigoquant/b3fileparser)\n",
        "\n",
        "[Baixar séries históricas](https://www.b3.com.br/pt_br/market-data-e-indices/servicos-de-dados/market-data/historico/mercado-a-vista/series-historicas/)"
      ],
      "metadata": {
        "id": "rMPsIcejRes_"
      }
    },
    {
      "cell_type": "markdown",
      "source": [
        "## Instalar e Importar a Biblioteca"
      ],
      "metadata": {
        "id": "etqzhC65PbiY"
      }
    },
    {
      "cell_type": "markdown",
      "source": [
        "Primeiramente, você precisa instalar a biblioteca **b3fileparser**. Você pode fazer isso usando o comando ```pip install b3fileparser```."
      ],
      "metadata": {
        "id": "vjoi5Mr8PeoX"
      }
    },
    {
      "cell_type": "code",
      "source": [
        "!pip install b3fileparser"
      ],
      "metadata": {
        "collapsed": true,
        "id": "mEnrFPekTXWd"
      },
      "execution_count": null,
      "outputs": []
    },
    {
      "cell_type": "markdown",
      "source": [
        "## Coletar Dados das Empresas"
      ],
      "metadata": {
        "id": "vUsVIUfdPhg_"
      }
    },
    {
      "cell_type": "markdown",
      "source": [
        "Usando a biblioteca b3fileparser para obter dados das empresas da bolsa. Aqui está um exemplo de como coletar esses dados:"
      ],
      "metadata": {
        "id": "qEYmERRKPkTH"
      }
    },
    {
      "cell_type": "code",
      "source": [
        "import pandas as pd\n",
        "from b3fileparser.b3parser import B3Parser\n",
        "\n",
        "# Criar o parser com engine pandas\n",
        "parser = B3Parser.create_parser(engine='pandas')\n",
        "\n",
        "# Ler o arquivo de cotações históricas\n",
        "dados_b3 = parser.read_b3_file('COTAHIST_A2024.TXT')\n",
        "print(dados_b3.head())\n"
      ],
      "metadata": {
        "colab": {
          "base_uri": "https://localhost:8080/"
        },
        "id": "ZK1Zm_AiVIJs",
        "outputId": "fa7e1530-fc25-4007-91bf-344fde4dfba3"
      },
      "execution_count": null,
      "outputs": [
        {
          "output_type": "stream",
          "name": "stdout",
          "text": [
            "   TIPO_DE_REGISTRO DATA_DO_PREGAO  CODIGO_BDI CODIGO_DE_NEGOCIACAO  \\\n",
            "1                 1     2024-01-02         2.0                AALR3   \n",
            "2                 1     2024-01-02         2.0                ABCB4   \n",
            "3                 1     2024-01-02         2.0                ABEV3   \n",
            "4                 1     2024-01-02         2.0                BBDC3   \n",
            "5                 1     2024-01-02         2.0                ALPA3   \n",
            "\n",
            "   TIPO_DE_MERCADO NOME_DA_EMPRESA ESPECIFICACAO_DO_PAPEL  \\\n",
            "1               10          ALLIAR             ON      NM   \n",
            "2               10      ABC BRASIL             PN  EJS N2   \n",
            "3               10       AMBEV S/A                 ON  EJ   \n",
            "4               10        BRADESCO             ON  EJ  N1   \n",
            "5               10      ALPARGATAS             ON      N1   \n",
            "\n",
            "   PRAZO_EM_DIAS_DO_MERCADO_A_TERMO MOEDA_DE_REFERENCIA  PRECO_DE_ABERTURA  \\\n",
            "1                               NaN                  R$              10.20   \n",
            "2                               NaN                  R$              23.98   \n",
            "3                               NaN                  R$              13.72   \n",
            "4                               NaN                  R$              15.26   \n",
            "5                               NaN                  R$              10.11   \n",
            "\n",
            "   ...  NUMERO_DE_NEGOCIOS  QUANTIDADE_NEGOCIADA  VOLUME_TOTAL_NEGOCIADO  \\\n",
            "1  ...              1993.0              430400.0            4.014875e+08   \n",
            "2  ...              8964.0             1944700.0            4.494731e+09   \n",
            "3  ...             16587.0            11690200.0            1.598391e+10   \n",
            "4  ...              6674.0             4545600.0            6.857685e+09   \n",
            "5  ...                20.0                2900.0            2.912000e+06   \n",
            "\n",
            "   PRECO_DE_EXERCICIO  INDICADOR_DE_CORRECAO_DE_PRECOS  \\\n",
            "1                 0.0                              0.0   \n",
            "2                 0.0                              0.0   \n",
            "3                 0.0                              0.0   \n",
            "4                 0.0                              0.0   \n",
            "5                 0.0                              0.0   \n",
            "\n",
            "             DATA_DE_VENCIMENTO  FATOR_DE_COTACAO  \\\n",
            "1 1970-01-01 00:00:00.099991231               1.0   \n",
            "2 1970-01-01 00:00:00.099991231               1.0   \n",
            "3 1970-01-01 00:00:00.099991231               1.0   \n",
            "4 1970-01-01 00:00:00.099991231               1.0   \n",
            "5 1970-01-01 00:00:00.099991231               1.0   \n",
            "\n",
            "   PRECO_DE_EXERCICIO_EM_PONTOS   CODIGO_ISIN  NUMERO_DE_DISTRIBUICAO  \n",
            "1                           0.0  BRAALRACNOR6                   102.0  \n",
            "2                           0.0  BRABCBACNPR4                   145.0  \n",
            "3                           0.0  BRABEVACNOR1                   127.0  \n",
            "4                           0.0  BRBBDCACNOR1                   764.0  \n",
            "5                           0.0  BRALPAACNOR0                   231.0  \n",
            "\n",
            "[5 rows x 26 columns]\n"
          ]
        }
      ]
    },
    {
      "cell_type": "markdown",
      "source": [
        "## Processamento dos Dados"
      ],
      "metadata": {
        "id": "jZ3v406jZh06"
      }
    },
    {
      "cell_type": "markdown",
      "source": [
        "Vamos filtrar os dados para manter apenas as informações relevantes das empresas e calcular as métricas financeiras necessárias."
      ],
      "metadata": {
        "id": "FTtQecsFZqrR"
      }
    },
    {
      "cell_type": "code",
      "source": [
        "# Filtrar dados para obter apenas ações de mercado à vista (TIPO_DE_MERCADO == 'VISTA')\n",
        "dados_b3_vista = dados_b3[dados_b3['TIPO_DE_MERCADO'] == 'VISTA']\n",
        "\n",
        "# Selecionar colunas relevantes\n",
        "dados_empresas = dados_b3_vista[['CODIGO_DE_NEGOCIACAO', 'NOME_DA_EMPRESA', 'PRECO_DE_ABERTURA', 'PRECO_MAXIMO', 'PRECO_MINIMO', 'PRECO_MEDIO', 'PRECO_ULTIMO_NEGOCIO', 'NUMERO_DE_NEGOCIOS', 'QUANTIDADE_NEGOCIADA', 'VOLUME_TOTAL_NEGOCIADO']]\n",
        "\n",
        "# Calcular métricas financeiras\n",
        "dados_empresas['Lucro'] = dados_empresas['PRECO_MEDIO']  # Exemplo de lucro\n",
        "dados_empresas['Crescimento'] = dados_empresas['PRECO_ULTIMO_NEGOCIO'] / dados_empresas['PRECO_DE_ABERTURA'] - 1  # Crescimento percentual\n",
        "dados_empresas['Estabilidade'] = dados_empresas['NUMERO_DE_NEGOCIOS']  # Exemplo de estabilidade\n",
        "\n",
        "# Remover colunas originais não necessárias\n",
        "dados_empresas = dados_empresas[['CODIGO_DE_NEGOCIACAO', 'NOME_DA_EMPRESA', 'Lucro', 'Crescimento', 'Estabilidade']]\n",
        "print(dados_empresas.head())\n"
      ],
      "metadata": {
        "colab": {
          "base_uri": "https://localhost:8080/"
        },
        "id": "ctpEfnQTXb1K",
        "outputId": "10b456a5-ab11-4353-c4ef-f6b418bfb870"
      },
      "execution_count": null,
      "outputs": [
        {
          "output_type": "stream",
          "name": "stdout",
          "text": [
            "Empty DataFrame\n",
            "Columns: [CODIGO_DE_NEGOCIACAO, NOME_DA_EMPRESA, Lucro, Crescimento, Estabilidade]\n",
            "Index: []\n"
          ]
        }
      ]
    },
    {
      "cell_type": "markdown",
      "source": [
        "## Funções para AHP Gaussiano"
      ],
      "metadata": {
        "id": "rS6T2ByhZvIw"
      }
    },
    {
      "cell_type": "markdown",
      "source": [
        "Vamos verificar e corrigir as funções de normalização e cálculo da matriz de comparação."
      ],
      "metadata": {
        "id": "aPDCD9-RZxwA"
      }
    },
    {
      "cell_type": "code",
      "source": [
        "import numpy as np\n",
        "from scipy.stats import norm\n",
        "\n",
        "# Função para normalizar os dados\n",
        "def normalize_data(df):\n",
        "    return (df - df.min()) / (df.max() - df.min())\n",
        "\n",
        "# Função para calcular a matriz de comparações\n",
        "def calculate_comparison_matrix(data, weights):\n",
        "    normalized_data = normalize_data(data)\n",
        "    matrix = np.zeros((len(data), len(data)))\n",
        "    for i in range(len(data)):\n",
        "        for j in range(len(data)):\n",
        "            matrix[i][j] = sum(weights * norm.cdf(normalized_data.iloc[i] - normalized_data.iloc[j]))\n",
        "    return matrix\n",
        "\n",
        "# Função para calcular os pesos das empresas\n",
        "def calculate_company_weights(matrix):\n",
        "    eigvals, eigvecs = np.linalg.eig(matrix)\n",
        "    max_eigval_index = np.argmax(eigvals)\n",
        "    weights = eigvecs[:, max_eigval_index]\n",
        "    weights = weights / weights.sum()\n",
        "    return weights.real\n"
      ],
      "metadata": {
        "id": "d9zMEsoQYxgB"
      },
      "execution_count": null,
      "outputs": []
    },
    {
      "cell_type": "markdown",
      "source": [
        "## Aplicação do Método"
      ],
      "metadata": {
        "id": "MJVVY_haZ01A"
      }
    },
    {
      "cell_type": "markdown",
      "source": [
        "Vamos aplicar as funções corrigidas ao nosso conjunto de dados."
      ],
      "metadata": {
        "id": "70Q4IRfhZ234"
      }
    },
    {
      "cell_type": "code",
      "source": [
        "# Definir os critérios e suas ponderações\n",
        "criteria = ['Lucro', 'Crescimento', 'Estabilidade']\n",
        "weights = [0.4, 0.3, 0.3]  # Exemplo de ponderações\n",
        "\n",
        "# Filtrar e preparar os dados das empresas\n",
        "data = dados_empresas[criteria].dropna()\n",
        "\n",
        "# Calcular a matriz de comparações e os pesos das empresas\n",
        "comparison_matrix = calculate_comparison_matrix(data, weights)\n",
        "\n",
        "# Verificar se a matriz de comparação foi calculada corretamente\n",
        "if comparison_matrix.size == 0:\n",
        "    raise ValueError(\"A matriz de comparação está vazia. Verifique os dados de entrada.\")\n",
        "\n",
        "company_weights = calculate_company_weights(comparison_matrix)\n",
        "\n",
        "# Adicionar os pesos ao dataframe\n",
        "dados_empresas['Peso'] = company_weights\n",
        "\n",
        "# Exibir o ranking das empresas\n",
        "dados_empresas = dados_empresas.sort_values(by='Peso', ascending=False)\n",
        "print(dados_empresas)\n"
      ],
      "metadata": {
        "colab": {
          "base_uri": "https://localhost:8080/",
          "height": 211
        },
        "id": "DyNVEFmzY1Xx",
        "outputId": "57fc3c43-f977-43e9-ddf2-0436a788c00e"
      },
      "execution_count": null,
      "outputs": [
        {
          "output_type": "error",
          "ename": "ValueError",
          "evalue": "A matriz de comparação está vazia. Verifique os dados de entrada.",
          "traceback": [
            "\u001b[0;31m---------------------------------------------------------------------------\u001b[0m",
            "\u001b[0;31mValueError\u001b[0m                                Traceback (most recent call last)",
            "\u001b[0;32m<ipython-input-12-cdcb404b1419>\u001b[0m in \u001b[0;36m<cell line: 12>\u001b[0;34m()\u001b[0m\n\u001b[1;32m     11\u001b[0m \u001b[0;31m# Verificar se a matriz de comparação foi calculada corretamente\u001b[0m\u001b[0;34m\u001b[0m\u001b[0;34m\u001b[0m\u001b[0m\n\u001b[1;32m     12\u001b[0m \u001b[0;32mif\u001b[0m \u001b[0mcomparison_matrix\u001b[0m\u001b[0;34m.\u001b[0m\u001b[0msize\u001b[0m \u001b[0;34m==\u001b[0m \u001b[0;36m0\u001b[0m\u001b[0;34m:\u001b[0m\u001b[0;34m\u001b[0m\u001b[0;34m\u001b[0m\u001b[0m\n\u001b[0;32m---> 13\u001b[0;31m     \u001b[0;32mraise\u001b[0m \u001b[0mValueError\u001b[0m\u001b[0;34m(\u001b[0m\u001b[0;34m\"A matriz de comparação está vazia. Verifique os dados de entrada.\"\u001b[0m\u001b[0;34m)\u001b[0m\u001b[0;34m\u001b[0m\u001b[0;34m\u001b[0m\u001b[0m\n\u001b[0m\u001b[1;32m     14\u001b[0m \u001b[0;34m\u001b[0m\u001b[0m\n\u001b[1;32m     15\u001b[0m \u001b[0mcompany_weights\u001b[0m \u001b[0;34m=\u001b[0m \u001b[0mcalculate_company_weights\u001b[0m\u001b[0;34m(\u001b[0m\u001b[0mcomparison_matrix\u001b[0m\u001b[0;34m)\u001b[0m\u001b[0;34m\u001b[0m\u001b[0;34m\u001b[0m\u001b[0m\n",
            "\u001b[0;31mValueError\u001b[0m: A matriz de comparação está vazia. Verifique os dados de entrada."
          ]
        }
      ]
    },
    {
      "cell_type": "markdown",
      "source": [
        "## Otimização com Hill Climbing"
      ],
      "metadata": {
        "id": "Izsz4qUUZ6JY"
      }
    },
    {
      "cell_type": "markdown",
      "source": [
        "Vamos usar os pesos calculados para otimizar a carteira de investimentos usando Hill Climbing."
      ],
      "metadata": {
        "id": "agIYhnmJZ8en"
      }
    },
    {
      "cell_type": "code",
      "source": [
        "import random\n",
        "\n",
        "# Definir a função de custo\n",
        "def cost_function(portfolio, returns, risks):\n",
        "    return portfolio.dot(returns) - portfolio.dot(risks)\n",
        "\n",
        "# Implementar o algoritmo Hill Climbing\n",
        "def hill_climbing(returns, risks, num_assets, max_iters=1000):\n",
        "    current_solution = np.random.rand(num_assets)\n",
        "    current_solution = current_solution / current_solution.sum()\n",
        "    current_cost = cost_function(current_solution, returns, risks)\n",
        "\n",
        "    for i in range(max_iters):\n",
        "        neighbor = current_solution + np.random.normal(0, 0.1, num_assets)\n",
        "        neighbor = np.clip(neighbor, 0, 1)\n",
        "        neighbor = neighbor / neighbor.sum()\n",
        "\n",
        "        neighbor_cost = cost_function(neighbor, returns, risks)\n",
        "\n",
        "        if neighbor_cost > current_cost:\n",
        "            current_solution = neighbor\n",
        "            current_cost = neighbor_cost\n",
        "\n",
        "    return current_solution, current_cost\n",
        "\n",
        "# Exemplo de dados fictícios de retornos e riscos\n",
        "returns = dados_empresas['Lucro'].values\n",
        "risks = 1 - dados_empresas['Estabilidade'].values  # Supomos que maior estabilidade significa menor risco\n",
        "\n",
        "# Executar o algoritmo Hill Climbing\n",
        "best_portfolio, best_cost = hill_climbing(returns, risks, len(returns))\n",
        "print(\"Melhor portfólio:\", best_portfolio)\n",
        "print(\"Melhor custo:\", best_cost)\n"
      ],
      "metadata": {
        "colab": {
          "base_uri": "https://localhost:8080/"
        },
        "id": "1bcegy1cY5Iw",
        "outputId": "d9c6819e-d05c-4a6f-c655-0d584d310e85"
      },
      "execution_count": null,
      "outputs": [
        {
          "output_type": "stream",
          "name": "stdout",
          "text": [
            "Melhor portfólio: []\n",
            "Melhor custo: 0.0\n"
          ]
        }
      ]
    },
    {
      "cell_type": "markdown",
      "source": [
        "## Ajuste dos Pesos com Redes Neurais"
      ],
      "metadata": {
        "id": "uNqrg9g0Z_Eo"
      }
    },
    {
      "cell_type": "markdown",
      "source": [
        "Para ajustar os pesos dos ativos utilizando redes neurais, vamos treinar um modelo de rede neural com os dados disponíveis."
      ],
      "metadata": {
        "id": "Pk_gkWJHaA0Y"
      }
    },
    {
      "cell_type": "code",
      "source": [
        "import numpy as np\n",
        "import pandas as pd\n",
        "from keras.models import Sequential\n",
        "from keras.layers import Dense\n",
        "\n",
        "# Preparar os dados de treinamento\n",
        "X_train = dados_empresas[criteria].values\n",
        "y_train = dados_empresas['Peso'].values.reshape(-1, 1)\n",
        "\n",
        "# Definir a arquitetura da rede neural\n",
        "model = Sequential()\n",
        "model.add(Dense(64, input_dim=X_train.shape[1], activation='relu'))\n",
        "model.add(Dense(32, activation='relu'))\n",
        "model.add(Dense(1, activation='linear'))\n",
        "\n",
        "# Compilar o modelo\n",
        "model.compile(optimizer='adam', loss='mean_squared_error')\n",
        "\n",
        "# Treinar o modelo\n",
        "model.fit(X_train, y_train, epochs=50, batch_size=10)\n",
        "\n",
        "# Prever os pesos dos ativos com a rede neural treinada\n",
        "predictions = model.predict(X_train)\n",
        "\n",
        "dados_empresas['Predicted_Peso'] = predictions\n",
        "\n",
        "print(\"Previsões de pesos para os ativos:\", dados_empresas[['CODIGO_DE_NEGOCIACAO', 'Predicted_Peso']])\n"
      ],
      "metadata": {
        "id": "yVMUY4NKY7M4"
      },
      "execution_count": null,
      "outputs": []
    }
  ]
}